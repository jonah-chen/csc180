{
 "cells": [
  {
   "cell_type": "code",
   "execution_count": 3,
   "outputs": [
    {
     "name": "stdout",
     "output_type": "stream",
     "text": [
      "['fall', 'colours']\n"
     ]
    }
   ],
   "source": [
    "def halloween_reaction(thing):\n",
    "    if thing == 'ghost' or thing == 'monster' or thing == 'midterm':\n",
    "        return 'NOO!'\n",
    "    return 'YAY!'\n",
    "\n",
    "def print_mid_part(L):\n",
    "    for j in range(1, len(L) - 1):\n",
    "        print(L[j])\n",
    "\n",
    "def h(L):\n",
    "    L[:] = ['fall', 'colours']\n",
    "    return L"
   ],
   "metadata": {
    "collapsed": false,
    "pycharm": {
     "name": "#%%\n"
    }
   }
  },
  {
   "cell_type": "code",
   "execution_count": null,
   "outputs": [],
   "source": [
    "def odd_sum(L):\n",
    "    '''Return the sum of the odd elements of L'''\n",
    "    sum = 0\n",
    "    for e in L:\n",
    "        if e % 2 == 0:\n",
    "            sum += e\n",
    "    return sum\n",
    "\n",
    "for i in range(5, 500, 3):\n",
    "    print(i)\n",
    "    \n",
    "# with a while loop\n",
    "i = 5\n",
    "while i < 500:\n",
    "    print(i)\n",
    "    i+=3"
   ],
   "metadata": {
    "collapsed": false,
    "pycharm": {
     "name": "#%%\n"
    }
   }
  },
  {
   "cell_type": "code",
   "execution_count": null,
   "outputs": [],
   "source": [
    "def kids_who_like_candy(faves, kids):\n",
    "    candies = []\n",
    "    for j in range(len(kids)):\n",
    "        if faves[j] == 'candy':\n",
    "            candies.append(kids[j])\n",
    "    return candies\n",
    "\n",
    "def cube_root(n):\n",
    "    if n == 0:\n",
    "        return 0\n",
    "    s = 1\n",
    "    if n < 0:\n",
    "        n = -n\n",
    "        s = -1\n",
    "    p = 1\n",
    "    while True:    \n",
    "        if p * p * p == n:\n",
    "            return s * p\n",
    "        p += 1"
   ],
   "metadata": {
    "collapsed": false,
    "pycharm": {
     "name": "#%%\n"
    }
   }
  },
  {
   "cell_type": "code",
   "execution_count": 8,
   "outputs": [],
   "source": [
    "class Suprise:\n",
    "    def __init__(self):\n",
    "        pass\n",
    "    surprise = 4\n",
    "    def surprise(self):\n",
    "        global surprise\n",
    "        surprise-=1\n",
    "        return surprise\n",
    "def halloween_surprise():\n",
    "    sup = Suprise()\n",
    "    surprise = sup.surprise()\n",
    "    if surprise == 0:\n",
    "        return 'SURPRISE!'\n",
    "    return surprise"
   ],
   "metadata": {
    "collapsed": false,
    "pycharm": {
     "name": "#%%\n"
    }
   }
  },
  {
   "cell_type": "code",
   "execution_count": 9,
   "outputs": [
    {
     "data": {
      "text/plain": "True"
     },
     "execution_count": 9,
     "metadata": {},
     "output_type": "execute_result"
    }
   ],
   "source": [
    "def has_single_peak(L):\n",
    "    '''Return True iff the list of integers L has only a single peak'''\n",
    "    p = 0\n",
    "    for j in range(1, len(L)):\n",
    "        if L[j-1]>L[j] and p == 0:\n",
    "            p += 1\n",
    "        if L[j-1]<L[j] and p == 1:\n",
    "            p += 1\n",
    "    return p != 2"
   ],
   "metadata": {
    "collapsed": false,
    "pycharm": {
     "name": "#%%\n"
    }
   }
  },
  {
   "cell_type": "code",
   "execution_count": 17,
   "outputs": [
    {
     "name": "stdout",
     "output_type": "stream",
     "text": [
      "9\n"
     ]
    }
   ],
   "source": [
    "def max(a,b):\n",
    "    if a > b:\n",
    "        return a\n",
    "    return b\n",
    "\n",
    "def max_arrivals_2hrs(arrivals):\n",
    "    f, j, max_arrivals = 0, 0, 1\n",
    "    while j < len(arrivals):\n",
    "        if arrivals[j]-arrivals[f]<=120:\n",
    "            max_arrivals = max(max_arrivals, j-f+1)\n",
    "            j += 1\n",
    "        else:\n",
    "            f += 1\n",
    "    return max_arrivals"
   ],
   "metadata": {
    "collapsed": false,
    "pycharm": {
     "name": "#%%\n"
    }
   }
  },
  {
   "cell_type": "code",
   "execution_count": 9,
   "outputs": [
    {
     "ename": "NameError",
     "evalue": "name 'surprise' is not defined",
     "output_type": "error",
     "traceback": [
      "\u001B[0;31m---------------------------------------------------------------------------\u001B[0m",
      "\u001B[0;31mNameError\u001B[0m                                 Traceback (most recent call last)",
      "\u001B[0;32m<ipython-input-9-b440e563f098>\u001B[0m in \u001B[0;36m<module>\u001B[0;34m\u001B[0m\n\u001B[0;32m----> 1\u001B[0;31m \u001B[0mprint\u001B[0m\u001B[0;34m(\u001B[0m\u001B[0mhalloween_surprise\u001B[0m\u001B[0;34m(\u001B[0m\u001B[0;34m)\u001B[0m\u001B[0;34m)\u001B[0m\u001B[0;34m\u001B[0m\u001B[0;34m\u001B[0m\u001B[0m\n\u001B[0m\u001B[1;32m      2\u001B[0m \u001B[0mprint\u001B[0m\u001B[0;34m(\u001B[0m\u001B[0mhalloween_surprise\u001B[0m\u001B[0;34m(\u001B[0m\u001B[0;34m)\u001B[0m\u001B[0;34m)\u001B[0m\u001B[0;34m\u001B[0m\u001B[0;34m\u001B[0m\u001B[0m\n\u001B[1;32m      3\u001B[0m \u001B[0mprint\u001B[0m\u001B[0;34m(\u001B[0m\u001B[0mhalloween_surprise\u001B[0m\u001B[0;34m(\u001B[0m\u001B[0;34m)\u001B[0m\u001B[0;34m)\u001B[0m\u001B[0;34m\u001B[0m\u001B[0;34m\u001B[0m\u001B[0m\n\u001B[1;32m      4\u001B[0m \u001B[0mprint\u001B[0m\u001B[0;34m(\u001B[0m\u001B[0mhalloween_surprise\u001B[0m\u001B[0;34m(\u001B[0m\u001B[0;34m)\u001B[0m\u001B[0;34m)\u001B[0m\u001B[0;34m\u001B[0m\u001B[0;34m\u001B[0m\u001B[0m\n",
      "\u001B[0;32m<ipython-input-8-3c88ae17f8bc>\u001B[0m in \u001B[0;36mhalloween_surprise\u001B[0;34m()\u001B[0m\n\u001B[1;32m      9\u001B[0m \u001B[0;32mdef\u001B[0m \u001B[0mhalloween_surprise\u001B[0m\u001B[0;34m(\u001B[0m\u001B[0;34m)\u001B[0m\u001B[0;34m:\u001B[0m\u001B[0;34m\u001B[0m\u001B[0;34m\u001B[0m\u001B[0m\n\u001B[1;32m     10\u001B[0m     \u001B[0msup\u001B[0m \u001B[0;34m=\u001B[0m \u001B[0mSuprise\u001B[0m\u001B[0;34m(\u001B[0m\u001B[0;34m)\u001B[0m\u001B[0;34m\u001B[0m\u001B[0;34m\u001B[0m\u001B[0m\n\u001B[0;32m---> 11\u001B[0;31m     \u001B[0msurprise\u001B[0m \u001B[0;34m=\u001B[0m \u001B[0msup\u001B[0m\u001B[0;34m.\u001B[0m\u001B[0msurprise\u001B[0m\u001B[0;34m(\u001B[0m\u001B[0;34m)\u001B[0m\u001B[0;34m\u001B[0m\u001B[0;34m\u001B[0m\u001B[0m\n\u001B[0m\u001B[1;32m     12\u001B[0m     \u001B[0;32mif\u001B[0m \u001B[0msurprise\u001B[0m \u001B[0;34m==\u001B[0m \u001B[0;36m0\u001B[0m\u001B[0;34m:\u001B[0m\u001B[0;34m\u001B[0m\u001B[0;34m\u001B[0m\u001B[0m\n\u001B[1;32m     13\u001B[0m         \u001B[0;32mreturn\u001B[0m \u001B[0;34m'SURPRISE!'\u001B[0m\u001B[0;34m\u001B[0m\u001B[0;34m\u001B[0m\u001B[0m\n",
      "\u001B[0;32m<ipython-input-8-3c88ae17f8bc>\u001B[0m in \u001B[0;36msurprise\u001B[0;34m(self)\u001B[0m\n\u001B[1;32m      5\u001B[0m     \u001B[0;32mdef\u001B[0m \u001B[0msurprise\u001B[0m\u001B[0;34m(\u001B[0m\u001B[0mself\u001B[0m\u001B[0;34m)\u001B[0m\u001B[0;34m:\u001B[0m\u001B[0;34m\u001B[0m\u001B[0;34m\u001B[0m\u001B[0m\n\u001B[1;32m      6\u001B[0m         \u001B[0;32mglobal\u001B[0m \u001B[0msurprise\u001B[0m\u001B[0;34m\u001B[0m\u001B[0;34m\u001B[0m\u001B[0m\n\u001B[0;32m----> 7\u001B[0;31m         \u001B[0msurprise\u001B[0m\u001B[0;34m-=\u001B[0m\u001B[0;36m1\u001B[0m\u001B[0;34m\u001B[0m\u001B[0;34m\u001B[0m\u001B[0m\n\u001B[0m\u001B[1;32m      8\u001B[0m         \u001B[0;32mreturn\u001B[0m \u001B[0msurprise\u001B[0m\u001B[0;34m\u001B[0m\u001B[0;34m\u001B[0m\u001B[0m\n\u001B[1;32m      9\u001B[0m \u001B[0;32mdef\u001B[0m \u001B[0mhalloween_surprise\u001B[0m\u001B[0;34m(\u001B[0m\u001B[0;34m)\u001B[0m\u001B[0;34m:\u001B[0m\u001B[0;34m\u001B[0m\u001B[0;34m\u001B[0m\u001B[0m\n",
      "\u001B[0;31mNameError\u001B[0m: name 'surprise' is not defined"
     ]
    }
   ],
   "source": [
    "print(halloween_surprise())\n",
    "print(halloween_surprise())\n",
    "print(halloween_surprise())\n",
    "print(halloween_surprise())"
   ],
   "metadata": {
    "collapsed": false,
    "pycharm": {
     "name": "#%%\n"
    }
   }
  }
 ],
 "metadata": {
  "kernelspec": {
   "display_name": "Python 3",
   "language": "python",
   "name": "python3"
  },
  "language_info": {
   "codemirror_mode": {
    "name": "ipython",
    "version": 2
   },
   "file_extension": ".py",
   "mimetype": "text/x-python",
   "name": "python",
   "nbconvert_exporter": "python",
   "pygments_lexer": "ipython2",
   "version": "2.7.6"
  }
 },
 "nbformat": 4,
 "nbformat_minor": 0
}