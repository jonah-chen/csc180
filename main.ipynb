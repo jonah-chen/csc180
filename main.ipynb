{
 "cells": [
  {
   "cell_type": "code",
   "execution_count": 3,
   "outputs": [
    {
     "name": "stdout",
     "output_type": "stream",
     "text": [
      "['fall', 'colours']\n"
     ]
    }
   ],
   "source": [
    "def halloween_reaction(thing):\n",
    "    if thing == 'ghost' or thing == 'monster' or thing == 'midterm':\n",
    "        return 'NOO!'\n",
    "    return 'YAY!'\n",
    "\n",
    "def print_mid_part(L):\n",
    "    for j in range(1, len(L) - 1):\n",
    "        print(L[j])\n",
    "\n",
    "def h(L):\n",
    "    L[:] = ['fall', 'colours']\n",
    "    return L"
   ],
   "metadata": {
    "collapsed": false,
    "pycharm": {
     "name": "#%%\n"
    }
   }
  },
  {
   "cell_type": "code",
   "execution_count": null,
   "outputs": [],
   "source": [
    "def odd_sum(L):\n",
    "    '''Return the sum of the odd elements of L'''\n",
    "    sum = 0\n",
    "    for e in L:\n",
    "        if e % 2 == 0:\n",
    "            sum += e\n",
    "    return sum\n",
    "\n",
    "for i in range(5, 500, 3):\n",
    "    print(i)\n",
    "    \n",
    "# with a while loop\n",
    "i = 5\n",
    "while i < 500:\n",
    "    print(i)\n",
    "    i+=3"
   ],
   "metadata": {
    "collapsed": false,
    "pycharm": {
     "name": "#%%\n"
    }
   }
  },
  {
   "cell_type": "code",
   "execution_count": null,
   "outputs": [],
   "source": [
    "def kids_who_like_candy(faves, kids):\n",
    "    candies = []\n",
    "    for j in range(len(kids)):\n",
    "        if faves[j] == 'candy':\n",
    "            candies.append(kids[j])\n",
    "    return candies\n",
    "\n",
    "def cube_root(n):\n",
    "    if n == 0:\n",
    "        return 0\n",
    "    s = 1\n",
    "    if n < 0:\n",
    "        n = -n\n",
    "        s = -1\n",
    "    p = 1\n",
    "    while True:    \n",
    "        if p * p * p == n:\n",
    "            return s * p\n",
    "        p += 1"
   ],
   "metadata": {
    "collapsed": false,
    "pycharm": {
     "name": "#%%\n"
    }
   }
  },
  {
   "cell_type": "code",
   "execution_count": 8,
   "outputs": [],
   "source": [
    "class Suprise:\n",
    "    def __init__(self):\n",
    "        pass\n",
    "    surprise = 4\n",
    "    def surprise(self):\n",
    "        global surprise\n",
    "        surprise-=1\n",
    "        return surprise\n",
    "def halloween_surprise():\n",
    "    sup = Suprise()\n",
    "    surprise = sup.surprise()\n",
    "    if surprise == 0:\n",
    "        return 'SURPRISE!'\n",
    "    return surprise"
   ],
   "metadata": {
    "collapsed": false,
    "pycharm": {
     "name": "#%%\n"
    }
   }
  },
  {
   "cell_type": "code",
   "execution_count": 9,
   "outputs": [
    {
     "data": {
      "text/plain": "True"
     },
     "execution_count": 9,
     "metadata": {},
     "output_type": "execute_result"
    }
   ],
   "source": [
    "def has_single_peak(L):\n",
    "    '''Return True iff the list of integers L has only a single peak'''\n",
    "    p = 0\n",
    "    for j in range(1, len(L)):\n",
    "        if L[j-1]>L[j] and p == 0:\n",
    "            p += 1\n",
    "        if L[j-1]<L[j] and p == 1:\n",
    "            p += 1\n",
    "    return p != 2"
   ],
   "metadata": {
    "collapsed": false,
    "pycharm": {
     "name": "#%%\n"
    }
   }
  },
  {
   "cell_type": "code",
   "execution_count": 17,
   "outputs": [
    {
     "name": "stdout",
     "output_type": "stream",
     "text": [
      "9\n"
     ]
    }
   ],
   "source": [
    "def max(a,b):\n",
    "    if a > b:\n",
    "        return a\n",
    "    return b\n",
    "\n",
    "def max_arrivals_2hrs(arrivals):\n",
    "    f, j, max_arrivals = 0, 0, 1\n",
    "    while j < len(arrivals):\n",
    "        if arrivals[j]-arrivals[f]<=120:\n",
    "            max_arrivals = max(max_arrivals, j-f+1)\n",
    "            j += 1\n",
    "        else:\n",
    "            f += 1\n",
    "    return max_arrivals"
   ],
   "metadata": {
    "collapsed": false,
    "pycharm": {
     "name": "#%%\n"
    }
   }
  },
  {
   "cell_type": "code",
   "execution_count": 1,
   "outputs": [
    {
     "output_type": "error",
     "ename": "SyntaxError",
     "evalue": "invalid syntax (<ipython-input-1-ee21c0179567>, line 1)",
     "traceback": [
      "\u001b[0;36m  File \u001b[0;32m\"<ipython-input-1-ee21c0179567>\"\u001b[0;36m, line \u001b[0;32m1\u001b[0m\n\u001b[0;31m    while True\u001b[0m\n\u001b[0m              ^\u001b[0m\n\u001b[0;31mSyntaxError\u001b[0m\u001b[0;31m:\u001b[0m invalid syntax\n"
     ]
    }
   ],
   "source": [
    "while True\n",
    "{\n",
    "    print(1)\n",
    "}"
   ],
   "metadata": {
    "collapsed": false,
    "pycharm": {
     "name": "#%%\n"
    }
   }
  },
  {
   "cell_type": "code",
   "execution_count": null,
   "metadata": {},
   "outputs": [],
   "source": []
  }
 ],
 "metadata": {
  "kernelspec": {
   "display_name": "Python 3",
   "language": "python",
   "name": "python3"
  },
  "language_info": {
   "codemirror_mode": {
    "name": "ipython",
    "version": 2
   },
   "file_extension": ".py",
   "mimetype": "text/x-python",
   "name": "python",
   "nbconvert_exporter": "python",
   "pygments_lexer": "ipython2",
   "version": "3.8.3-final"
  }
 },
 "nbformat": 4,
 "nbformat_minor": 0
}